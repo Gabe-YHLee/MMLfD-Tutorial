{
 "cells": [
  {
   "cell_type": "code",
   "execution_count": 7,
   "metadata": {},
   "outputs": [],
   "source": [
    "from loader.Pouring_dataset import Pouring\n",
    "from models.mmp import MMP\n",
    "from models.modules import FC_SE32vec, FC_vec2SE3\n",
    "\n",
    "import torch\n",
    "\n",
    "import copy\n",
    "\n",
    "from ipywidgets import interact, interactive, fixed, interact_manual\n",
    "import ipywidgets as widgets\n",
    "%matplotlib inline\n",
    "\n",
    "import matplotlib.pyplot as plt\n",
    "\n",
    "device = f'cuda:0'\n",
    "use_pretrained = True"
   ]
  },
  {
   "cell_type": "code",
   "execution_count": 8,
   "metadata": {},
   "outputs": [
    {
     "name": "stdout",
     "output_type": "stream",
     "text": [
      "Pouring dataset is ready; # of trajectories: 10\n"
     ]
    },
    {
     "data": {
      "text/plain": [
       "MMP(\n",
       "  (encoder): FC_SE32vec(\n",
       "    (net): Sequential(\n",
       "      (0): Linear(in_features=5760, out_features=2048, bias=True)\n",
       "      (1): GELU(approximate='none')\n",
       "      (2): Linear(in_features=2048, out_features=1024, bias=True)\n",
       "      (3): GELU(approximate='none')\n",
       "      (4): Linear(in_features=1024, out_features=512, bias=True)\n",
       "      (5): GELU(approximate='none')\n",
       "      (6): Linear(in_features=512, out_features=256, bias=True)\n",
       "      (7): GELU(approximate='none')\n",
       "      (8): Linear(in_features=256, out_features=2, bias=True)\n",
       "    )\n",
       "  )\n",
       "  (decoder): FC_vec2SE3(\n",
       "    (net): Sequential(\n",
       "      (0): Linear(in_features=2, out_features=256, bias=True)\n",
       "      (1): GELU(approximate='none')\n",
       "      (2): Linear(in_features=256, out_features=512, bias=True)\n",
       "      (3): GELU(approximate='none')\n",
       "      (4): Linear(in_features=512, out_features=1024, bias=True)\n",
       "      (5): GELU(approximate='none')\n",
       "      (6): Linear(in_features=1024, out_features=2048, bias=True)\n",
       "      (7): GELU(approximate='none')\n",
       "      (8): Linear(in_features=2048, out_features=2880, bias=True)\n",
       "    )\n",
       "  )\n",
       ")"
      ]
     },
     "execution_count": 8,
     "metadata": {},
     "output_type": "execute_result"
    }
   ],
   "source": [
    "ds = Pouring()\n",
    "dl = torch.utils.data.DataLoader(ds, batch_size=10)\n",
    "encoder = FC_SE32vec(\n",
    "    in_chan=480*12,\n",
    "    out_chan=2,\n",
    "    l_hidden=[2048, 1024, 512, 256, ],\n",
    "    activation=['gelu', 'gelu', 'gelu', 'gelu',],\n",
    "    out_activation='linear'\n",
    ")\n",
    "decoder = FC_vec2SE3(\n",
    "    in_chan=2,\n",
    "    out_chan=480*6,\n",
    "    l_hidden=[256, 512, 1024, 2048, ],\n",
    "    activation=['gelu', 'gelu', 'gelu', 'gelu',],\n",
    "    out_activation='linear'\n",
    ")\n",
    "mmp = MMP(encoder, decoder)\n",
    "mmp.to(device)"
   ]
  },
  {
   "cell_type": "code",
   "execution_count": 9,
   "metadata": {},
   "outputs": [],
   "source": [
    "if use_pretrained:\n",
    "    load_dict = torch.load(\"results/mmp.pkl\", map_location='cpu')\n",
    "    ckpt = load_dict[\"model_state\"]\n",
    "    mmp.load_state_dict(ckpt)\n",
    "    list_encoded_data = load_dict[\"list_encoded_data\"]\n",
    "    best_mmp = copy.copy(mmp)\n",
    "else:\n",
    "    list_encoded_data = []\n",
    "    best_val_loss = torch.inf\n",
    "    opt = torch.optim.Adam(mmp.parameters(), lr=0.0001)\n",
    "    for epoch in range(1000):\n",
    "        for x, _ in dl:\n",
    "            results = mmp.train_step(x.to(device), optimizer=opt)\n",
    "        if epoch%10 == 0:\n",
    "            val_loss = mmp.validation_step(x.to(device))['loss']\n",
    "            print(f\"[Epoch {epoch}] Train loss: {results['loss']} Val loss: {val_loss}\")\n",
    "            list_encoded_data.append(mmp.encode(ds.traj_data_.to(device)).detach().cpu())\n",
    "            if val_loss < best_val_loss:\n",
    "                best_val_loss = val_loss\n",
    "                best_mmp = copy.copy(mmp)\n",
    "                print(f\"best_val_loss is updated to {best_val_loss}\")\n",
    "    torch.save({\n",
    "        \"list_encoded_data\": list_encoded_data, \n",
    "        \"model_state\": best_mmp.state_dict()\n",
    "    }, \"results/mmp.pkl\")"
   ]
  },
  {
   "cell_type": "code",
   "execution_count": 10,
   "metadata": {},
   "outputs": [],
   "source": [
    "def update(epoch):\n",
    "    plt.figure(figsize=(3,3))\n",
    "    for z_data, l in zip(list_encoded_data[epoch], ds.labels_):\n",
    "        if l[0] == 0:\n",
    "            c = 'lightskyblue'\n",
    "        else:\n",
    "            c = 'darkmagenta'\n",
    "        if l[1] == 0:\n",
    "            s = 50\n",
    "        else:\n",
    "            s = 100\n",
    "        if l[2] == 1:\n",
    "            marker = '<'\n",
    "        elif l[2] == 2:\n",
    "            marker = '3'\n",
    "        elif l[2] == 3:\n",
    "            marker = '+'\n",
    "        elif l[2] == 4:\n",
    "            marker = '4'\n",
    "        elif l[2] == 5:\n",
    "            marker = '>'\n",
    "        plt.scatter(z_data[0], z_data[1], s=s, c=c, marker=marker)"
   ]
  },
  {
   "cell_type": "code",
   "execution_count": 11,
   "metadata": {},
   "outputs": [
    {
     "data": {
      "application/vnd.jupyter.widget-view+json": {
       "model_id": "96628e0b5fdf4226a10b5476deee33e1",
       "version_major": 2,
       "version_minor": 0
      },
      "text/plain": [
       "interactive(children=(IntSlider(value=0, description='epoch', max=99), Output(layout=Layout(height='350px'))),…"
      ]
     },
     "execution_count": 11,
     "metadata": {},
     "output_type": "execute_result"
    }
   ],
   "source": [
    "interactive_plot = interactive(update, epoch = widgets.IntSlider(\n",
    "    value=0,\n",
    "    min=0,\n",
    "    max=len(list_encoded_data)-1,\n",
    "    step=1))\n",
    "output = interactive_plot.children[-1]\n",
    "output.layout.height = '350px'\n",
    "interactive_plot"
   ]
  },
  {
   "cell_type": "code",
   "execution_count": 33,
   "metadata": {},
   "outputs": [
    {
     "data": {
      "image/png": "[encoded data removed]",
      "text/plain": [
       "<Figure size 300x300 with 1 Axes>"
      ]
     },
     "metadata": {},
     "output_type": "display_data"
    }
   ],
   "source": [
    "\n",
    "plt.figure(figsize=(3, 3))\n",
    "encoded_data = best_mmp.encode(ds.traj_data_.to(device)).detach().cpu()\n",
    "for z_data, l in zip(encoded_data, ds.labels_):\n",
    "    if l[0] == 0:\n",
    "        c = 'lightskyblue'\n",
    "    else:\n",
    "        c = 'darkmagenta'\n",
    "    if l[1] == 0:\n",
    "        s = 50\n",
    "    else:\n",
    "        s = 100\n",
    "    if l[2] == 1:\n",
    "        marker = '<'\n",
    "    elif l[2] == 2:\n",
    "        marker = '3'\n",
    "    elif l[2] == 3:\n",
    "        marker = '+'\n",
    "    elif l[2] == 4:\n",
    "        marker = '4'\n",
    "    elif l[2] == 5:\n",
    "        marker = '>'\n",
    "    plt.scatter(z_data[0], z_data[1], s=s, c=c, marker=marker)\n",
    "data1 = encoded_data[ds.labels_[:, 0]==0]\n",
    "data2 = encoded_data[ds.labels_[:, 0]==1]\n",
    "# for x1, x2 in zip(data1[:-1], data1[1:]):\n",
    "#     plt.plot([x1[0], x2[0]], [x1[1], x2[1]], '--', c='lightskyblue')\n",
    "# for x1, x2 in zip(data2[:-1], data2[1:]):\n",
    "#     plt.plot([x1[0], x2[0]], [x1[1], x2[1]], '--', c='darkmagenta')\n",
    "plt.axis('equal')\n",
    "\n",
    "plt.show()"
   ]
  },
  {
   "cell_type": "code",
   "execution_count": null,
   "metadata": {},
   "outputs": [],
   "source": []
  }
 ],
 "metadata": {
  "kernelspec": {
   "display_name": "epi",
   "language": "python",
   "name": "python3"
  },
  "language_info": {
   "codemirror_mode": {
    "name": "ipython",
    "version": 3
   },
   "file_extension": ".py",
   "mimetype": "text/x-python",
   "name": "python",
   "nbconvert_exporter": "python",
   "pygments_lexer": "ipython3",
   "version": "3.9.0"
  }
 },
 "nbformat": 4,
 "nbformat_minor": 2
}
